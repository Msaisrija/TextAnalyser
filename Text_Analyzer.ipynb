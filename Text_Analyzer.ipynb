{
 "cells": [
  {
   "cell_type": "code",
   "execution_count": 13,
   "id": "8271e583-526f-47a2-8a99-67bf89348e01",
   "metadata": {},
   "outputs": [
    {
     "name": "stdout",
     "output_type": "stream",
     "text": [
      "['Lorem', 'ipsum', 'dolor', 'sit', 'amet,', 'consectetur', 'adipiscing', 'elit.', 'Nulla', 'facilisi.', 'Ut', 'fringilla', 'turpis', 'at', 'facilisis.Maecenas', 'ut', 'viverra', 'nisi.', 'Nulla', 'facilisi.', 'Ut', 'fringilla', 'turpis', 'at', 'facilisis.']\n",
      "\n",
      "\n",
      "{'fringilla', 'consectetur', 'sit', 'dolor', 'facilisi.', 'facilisis.', 'facilisis.Maecenas', 'Nulla', 'elit.', 'amet,', 'at', 'viverra', 'nisi.', 'ut', 'adipiscing', 'ipsum', 'turpis', 'Lorem', 'Ut'}\n",
      "\n",
      "\n",
      "Number of characters in a pargraph is : 182\n",
      "\n",
      "\n",
      "{'Lorem': 1, 'ipsum': 1, 'dolor': 1, 'sit': 1, 'amet,': 1, 'consectetur': 1, 'adipiscing': 1, 'elit.': 1, 'Nulla': 2, 'facilisi.': 2, 'Ut': 2, 'fringilla': 2, 'turpis': 2, 'at': 2, 'facilisis.Maecenas': 1, 'ut': 1, 'viverra': 1, 'nisi.': 1, 'facilisis.': 1}\n"
     ]
    }
   ],
   "source": [
    "#generaed a random paragraph \n",
    "str=\"Lorem ipsum dolor sit amet, consectetur adipiscing elit.  Nulla facilisi. Ut fringilla turpis at facilisis.Maecenas ut viverra nisi. Nulla facilisi. Ut fringilla turpis at facilisis.\"\n",
    "words=str.split() #splits the paragraph into words\n",
    "print(words) #prints the words in list format\n",
    "print(\"\\n\")\n",
    "\n",
    "sets=set() # empty set\n",
    "sets.update(words)# adds words into set\n",
    "print(sets)#prints the set\n",
    "\n",
    "print(\"\\n\")\n",
    "char_count=len(str) #gives the length of string\n",
    "print(f\"Number of characters in a pargraph is : {char_count}\")#prints the character count\n",
    "\n",
    "freq_words={}\n",
    "for i in words:\n",
    "    if i in freq_words:\n",
    "        freq_words[i]+=1\n",
    "    else:\n",
    "        freq_words[i]=1\n",
    "print(\"\\n\")\n",
    "print(freq_words)"
   ]
  },
  {
   "cell_type": "code",
   "execution_count": null,
   "id": "ebc6d1c5-e956-45aa-86d3-262bc519d8ec",
   "metadata": {},
   "outputs": [],
   "source": []
  }
 ],
 "metadata": {
  "kernelspec": {
   "display_name": "Python 3 (ipykernel)",
   "language": "python",
   "name": "python3"
  },
  "language_info": {
   "codemirror_mode": {
    "name": "ipython",
    "version": 3
   },
   "file_extension": ".py",
   "mimetype": "text/x-python",
   "name": "python",
   "nbconvert_exporter": "python",
   "pygments_lexer": "ipython3",
   "version": "3.12.4"
  }
 },
 "nbformat": 4,
 "nbformat_minor": 5
}
